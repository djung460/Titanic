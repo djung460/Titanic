{
 "cells": [
  {
   "cell_type": "code",
   "execution_count": 29,
   "metadata": {
    "collapsed": false
   },
   "outputs": [],
   "source": [
    "# Standard\n",
    "import numpy as np\n",
    "import pandas as pd\n",
    "from pandas import Series, DataFrame\n",
    "import seaborn as sns\n",
    "import csv\n",
    "\n",
    "# Machine Learning\n",
    "from sklearn import preprocessing\n",
    "from sklearn.ensemble import RandomForestClassifier\n",
    "from sklearn.linear_model import LogisticRegression\n",
    "from sklearn import svm\n",
    "\n",
    "%matplotlib inline"
   ]
  },
  {
   "cell_type": "code",
   "execution_count": 30,
   "metadata": {
    "collapsed": false
   },
   "outputs": [],
   "source": [
    "# Return a prepared dataframe with passenger ids\n",
    "def prepare_data(df):\n",
    "    prep_df = pd.DataFrame(df)\n",
    "    # Binary for gender\n",
    "    prep_df['Gender'] = df['Sex'].map({'female' : 0, 'male' : 1}).astype(int)\n",
    "    \n",
    "    # Enumerate ports\n",
    "    if len(df.Embarked[df.Embarked.isnull()]) > 0:\n",
    "        df.Embarked[df.Embarked.isnull()] = df.Embarked.dropna().mode().values\n",
    "    ports = list((enumerate(np.unique(df.Embarked))))\n",
    "    ports_dict = {name : i for i, name in ports}\n",
    "    prep_df['Embarked'] = df.Embarked.map(lambda x: ports_dict[x]).astype(int)\n",
    "    \n",
    "    #See who is alone and who isn't\n",
    "    df['Alone'] = df.SibSp + df.Parch\n",
    "    prep_df['Alone'] = np.where(df['Alone'] == 0, 1, 0)\n",
    "    \n",
    "    # Fill in missing age values\n",
    "    num_samples = len(df.Age[df.Age.isnull()])\n",
    "    prep_df.Age[prep_df.Age.isnull()] = df.Age.dropna().sample(n=num_samples).values\n",
    "    \n",
    "    # Fill in missing fare values\n",
    "    num_fare_samples = len(df.Fare[df.Fare.isnull()])\n",
    "    prep_df.Fare[prep_df.Fare.isnull()] = df.Fare.dropna().sample(n=num_fare_samples).values\n",
    "    \n",
    "    # Create a new feature\n",
    "    prep_df['Age*Class'] = df.Age * df.Pclass\n",
    "    \n",
    "    prep_df['Class1'] = np.where(prep_df['Pclass'] == 1,1,0)\n",
    "    prep_df['Class2'] = np.where(prep_df['Pclass'] == 2,1,0)\n",
    "    prep_df['Class3'] = np.where(prep_df['Pclass'] == 3,1,0)\n",
    "    \n",
    "    # Normalize Age\n",
    "    prep_df.Age = preprocessing.scale(df.Age)\n",
    "    \n",
    "    # Normalize Fare\n",
    "    prep_df.Fare = preprocessing.scale(df.Fare)\n",
    "    prep_df['Age*Class'] = preprocessing.scale(prep_df['Age*Class'])\n",
    "\n",
    "    # Drop columns\n",
    "    prep_df = prep_df.drop(['Name','Sex','Ticket','Cabin','Pclass'],axis=1)\n",
    "    \n",
    "    return prep_df\n",
    "    \n",
    "    \n",
    "    "
   ]
  },
  {
   "cell_type": "code",
   "execution_count": 31,
   "metadata": {
    "collapsed": false
   },
   "outputs": [],
   "source": [
    "train_data = pd.read_csv('titanic_train.csv')\n",
    "train_df = train_data[0:800]\n",
    "cv_df = train_data[800:891]\n",
    "test_df = pd.read_csv('titanic_test.csv')"
   ]
  },
  {
   "cell_type": "code",
   "execution_count": 32,
   "metadata": {
    "collapsed": false,
    "scrolled": true
   },
   "outputs": [
    {
     "name": "stderr",
     "output_type": "stream",
     "text": [
      "C:\\Anaconda3\\lib\\site-packages\\ipykernel\\__main__.py:9: SettingWithCopyWarning: \n",
      "A value is trying to be set on a copy of a slice from a DataFrame\n",
      "\n",
      "See the caveats in the documentation: http://pandas.pydata.org/pandas-docs/stable/indexing.html#indexing-view-versus-copy\n",
      "C:\\Anaconda3\\lib\\site-packages\\pandas\\core\\generic.py:4428: SettingWithCopyWarning: \n",
      "A value is trying to be set on a copy of a slice from a DataFrame\n",
      "\n",
      "See the caveats in the documentation: http://pandas.pydata.org/pandas-docs/stable/indexing.html#indexing-view-versus-copy\n",
      "  self._update_inplace(new_data)\n",
      "C:\\Anaconda3\\lib\\site-packages\\ipykernel\\__main__.py:1: SettingWithCopyWarning: \n",
      "A value is trying to be set on a copy of a slice from a DataFrame\n",
      "\n",
      "See the caveats in the documentation: http://pandas.pydata.org/pandas-docs/stable/indexing.html#indexing-view-versus-copy\n",
      "  if __name__ == '__main__':\n",
      "C:\\Anaconda3\\lib\\site-packages\\ipykernel\\__main__.py:15: SettingWithCopyWarning: \n",
      "A value is trying to be set on a copy of a slice from a DataFrame.\n",
      "Try using .loc[row_indexer,col_indexer] = value instead\n",
      "\n",
      "See the caveats in the documentation: http://pandas.pydata.org/pandas-docs/stable/indexing.html#indexing-view-versus-copy\n",
      "C:\\Anaconda3\\lib\\site-packages\\ipykernel\\__main__.py:20: SettingWithCopyWarning: \n",
      "A value is trying to be set on a copy of a slice from a DataFrame\n",
      "\n",
      "See the caveats in the documentation: http://pandas.pydata.org/pandas-docs/stable/indexing.html#indexing-view-versus-copy\n",
      "C:\\Anaconda3\\lib\\site-packages\\ipykernel\\__main__.py:24: SettingWithCopyWarning: \n",
      "A value is trying to be set on a copy of a slice from a DataFrame\n",
      "\n",
      "See the caveats in the documentation: http://pandas.pydata.org/pandas-docs/stable/indexing.html#indexing-view-versus-copy\n",
      "C:\\Anaconda3\\lib\\site-packages\\ipykernel\\__main__.py:2: SettingWithCopyWarning: \n",
      "A value is trying to be set on a copy of a slice from a DataFrame\n",
      "\n",
      "See the caveats in the documentation: http://pandas.pydata.org/pandas-docs/stable/indexing.html#indexing-view-versus-copy\n",
      "  from ipykernel import kernelapp as app\n"
     ]
    }
   ],
   "source": [
    "train_df = prepare_data(train_df)\n",
    "cv_df = prepare_data(cv_df)\n",
    "test_df = prepare_data(test_df)"
   ]
  },
  {
   "cell_type": "code",
   "execution_count": 33,
   "metadata": {
    "collapsed": false
   },
   "outputs": [],
   "source": [
    "# Don't need ids for training\n",
    "train_df = train_df.drop('PassengerId', axis=1)\n",
    "train_df = train_df.values"
   ]
  },
  {
   "cell_type": "code",
   "execution_count": 34,
   "metadata": {
    "collapsed": false
   },
   "outputs": [],
   "source": [
    "# Prep cv\n",
    "cv_df = cv_df.drop('PassengerId', axis=1)\n",
    "cv_df = cv_df.values"
   ]
  },
  {
   "cell_type": "code",
   "execution_count": 43,
   "metadata": {
    "collapsed": false
   },
   "outputs": [
    {
     "name": "stdout",
     "output_type": "stream",
     "text": [
      "rfc Classifier train: 0.835165\n",
      "rfc Classifier cv: 0.846154\n"
     ]
    }
   ],
   "source": [
    "forest = RandomForestClassifier(n_estimators=100)\n",
    "best_forest = forest\n",
    "best_rfc_acc = 0;\n",
    "# Check rfc\n",
    "for i in range (0,20):\n",
    "    forest = forest.fit(train_df[0::,1::],train_df[0::,0])\n",
    "    output_rfc = forest.predict(cv_df[0::,1::]).astype(int)\n",
    "    rfc_acc = np.mean(output_rfc == cv_df[0::,0])\n",
    "    if rfc_acc > best_rfc_acc:\n",
    "        best_forest = forest\n",
    "        best_rfc_acc = rfc_acc\n",
    "output_rfc = best_forest.predict(cv_df[0::,1::]).astype(int)\n",
    "rfc_acc = np.mean(output_rfc == cv_df[0::,0])\n",
    "print('rfc Classifier train: %f' % rfc_acc)\n",
    "print('rfc Classifier cv: %f' % best_rfc_acc)"
   ]
  },
  {
   "cell_type": "code",
   "execution_count": 36,
   "metadata": {
    "collapsed": false
   },
   "outputs": [
    {
     "name": "stdout",
     "output_type": "stream",
     "text": [
      "Accuracy SVM Classifier 0.846154\n"
     ]
    }
   ],
   "source": [
    "# svm\n",
    "svmalgo = svm.SVC()\n",
    "svmalgo = svmalgo.fit(train_df[0::,1::],train_df[0::,0])\n",
    "output_svm = svmalgo.predict(cv_df[0::,1::]).astype(int)\n",
    "svm_acc = np.mean(output_svm == cv_df[0::,0])\n",
    "print('Accuracy SVM Classifier %f' % svm_acc)"
   ]
  },
  {
   "cell_type": "code",
   "execution_count": 37,
   "metadata": {
    "collapsed": false
   },
   "outputs": [
    {
     "name": "stdout",
     "output_type": "stream",
     "text": [
      "Accuracy Logistic Regression Classifier 0.824176\n"
     ]
    }
   ],
   "source": [
    "# log reg\n",
    "logreg = LogisticRegression(random_state=1).fit(train_df[0::,1::],train_df[0::,0])          \n",
    "output_logreg = logreg.predict(cv_df[0::,1::]).astype(int)\n",
    "logreg_acc = np.mean(output_logreg == cv_df[0::,0])\n",
    "print('Accuracy Logistic Regression Classifier %f' % logreg_acc)"
   ]
  },
  {
   "cell_type": "code",
   "execution_count": 38,
   "metadata": {
    "collapsed": false
   },
   "outputs": [],
   "source": [
    "# Save training ids\n",
    "ids = test_df['PassengerId']\n",
    "test_df = test_df.drop('PassengerId',axis=1)"
   ]
  },
  {
   "cell_type": "code",
   "execution_count": 39,
   "metadata": {
    "collapsed": false
   },
   "outputs": [],
   "source": [
    "test_df = test_df.values"
   ]
  },
  {
   "cell_type": "code",
   "execution_count": 40,
   "metadata": {
    "collapsed": true
   },
   "outputs": [],
   "source": [
    "# Test the data\n",
    "test_output_svm = svmalgo.predict(test_df).astype(int)\n",
    "test_output_rfc = forest.predict(test_df).astype(int)\n",
    "test_output_logreg = logreg.predict(test_df).astype(int)"
   ]
  },
  {
   "cell_type": "code",
   "execution_count": 41,
   "metadata": {
    "collapsed": false
   },
   "outputs": [],
   "source": [
    "prediction_file_svm = open('svm_model.csv','w')\n",
    "prediction_file_rfc = open('random_forest_model.csv','w')\n",
    "prediction_file_logreg = open('log_reg_model.csv','w')\n",
    "p_svm = csv.writer(prediction_file_svm)\n",
    "p_rfc = csv.writer(prediction_file_rfc)\n",
    "p_logreg = csv.writer(prediction_file_logreg)"
   ]
  },
  {
   "cell_type": "code",
   "execution_count": 42,
   "metadata": {
    "collapsed": false
   },
   "outputs": [],
   "source": [
    "p_svm.writerow(['PassengerId','Survived'])\n",
    "p_rfc.writerow(['PassengerId','Survived'])\n",
    "p_logreg.writerow(['PassengerId','Survived'])\n",
    "p_svm.writerows(zip(ids,test_output_svm))\n",
    "p_rfc.writerows(zip(ids,test_output_rfc))\n",
    "p_logreg.writerows(zip(ids,test_output_logreg))\n",
    "prediction_file_svm.close()\n",
    "prediction_file_rfc.close()\n",
    "prediction_file_logreg.close()"
   ]
  }
 ],
 "metadata": {
  "kernelspec": {
   "display_name": "Python 2",
   "language": "python",
   "name": "python2"
  },
  "language_info": {
   "codemirror_mode": {
    "name": "ipython",
    "version": 2
   },
   "file_extension": ".py",
   "mimetype": "text/x-python",
   "name": "python",
   "nbconvert_exporter": "python",
   "pygments_lexer": "ipython2",
   "version": "2.7.11"
  }
 },
 "nbformat": 4,
 "nbformat_minor": 0
}
